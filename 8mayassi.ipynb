{
 "cells": [
  {
   "cell_type": "code",
   "execution_count": null,
   "id": "40021b56-54e4-47f4-bca7-b7f6c05deeae",
   "metadata": {},
   "outputs": [],
   "source": [
    "#Q1. list is contaning all data type\n",
    "list=[\"fffqf\",4,5.4,]"
   ]
  },
  {
   "cell_type": "code",
   "execution_count": null,
   "id": "eefbd648-66e5-4fb0-9a18-0b894973b9e5",
   "metadata": {},
   "outputs": [],
   "source": [
    "#Q2.1 str\n",
    "2. str\n",
    "3.list\n",
    "4.int"
   ]
  },
  {
   "cell_type": "code",
   "execution_count": null,
   "id": "86e68d0b-85fd-43b8-91db-15c1c91310c6",
   "metadata": {},
   "outputs": [],
   "source": [
    "#Q3.\n",
    "1.devision in float\n",
    "2.modulaus\n",
    "3.devision in int\n",
    "4.power "
   ]
  },
  {
   "cell_type": "code",
   "execution_count": 15,
   "id": "90d74815-0566-447d-b45d-2d68f6da7190",
   "metadata": {},
   "outputs": [
    {
     "name": "stdout",
     "output_type": "stream",
     "text": [
      "<class 'str'>\n",
      "gg\n",
      "<class 'str'>\n",
      "5.3\n",
      "<class 'complex'>\n",
      "4j\n",
      "<class 'int'>\n",
      "52\n"
     ]
    }
   ],
   "source": [
    "#Q4.\n",
    "list=[\"gg\",\"5.3\",4j,52]\n",
    "\n",
    "for i in list:\n",
    "    print(type(i))\n",
    "    print(i)"
   ]
  },
  {
   "cell_type": "code",
   "execution_count": 18,
   "id": "e019f834-b492-40f1-8182-713a07b43dac",
   "metadata": {},
   "outputs": [
    {
     "name": "stdout",
     "output_type": "stream",
     "text": [
      "1 is divisible by 2 and can be divided 3 times.\n"
     ]
    }
   ],
   "source": [
    "#5\n",
    "a=8\n",
    "b=2\n",
    "count = 0\n",
    "while a%b == 0:\n",
    "    count+= 1\n",
    "    a//=b\n",
    "if count>0:\n",
    "    print(f\"{a} is divisible by {b} and can be divided {count} times.\")\n",
    "else:\n",
    "    print(f\"{a} is not divisible by {b}.\")\n"
   ]
  },
  {
   "cell_type": "code",
   "execution_count": 31,
   "id": "f9e31f2e-c403-49ce-b6f3-10aa8d0fe9a8",
   "metadata": {},
   "outputs": [
    {
     "name": "stdout",
     "output_type": "stream",
     "text": [
      "not divisible by 3\n",
      "not divisible by 3\n",
      "devisible by 3\n",
      "devisible by 3\n",
      "not divisible by 3\n",
      "devisible by 3\n"
     ]
    }
   ],
   "source": [
    "#Q6\n",
    "list=[10,23,12,3,4.9,15]\n",
    "\n",
    "for i in list:\n",
    "    if i%3==0:\n",
    "        print(\"devisible by 3\")\n",
    "    else:\n",
    "        print(\"not divisible by 3\")"
   ]
  },
  {
   "cell_type": "code",
   "execution_count": null,
   "id": "d37a11e7-704c-4f96-8c3a-6750bb83dbc1",
   "metadata": {},
   "outputs": [
    {
     "data": {
      "text/plain": [
       "0"
      ]
     },
     "execution_count": 12,
     "metadata": {},
     "output_type": "execute_result"
    }
   ],
   "source": [
    "#Mutable= if we change the data or assigne  value and remove any value is called mutable.\n",
    "#immutable= if we not change any data or value and not append new value is called immutable. "
   ]
  }
 ],
 "metadata": {
  "kernelspec": {
   "display_name": "Python 3 (ipykernel)",
   "language": "python",
   "name": "python3"
  },
  "language_info": {
   "codemirror_mode": {
    "name": "ipython",
    "version": 3
   },
   "file_extension": ".py",
   "mimetype": "text/x-python",
   "name": "python",
   "nbconvert_exporter": "python",
   "pygments_lexer": "ipython3",
   "version": "3.10.8"
  }
 },
 "nbformat": 4,
 "nbformat_minor": 5
}
